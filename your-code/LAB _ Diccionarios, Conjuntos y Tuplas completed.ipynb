{
 "cells": [
  {
   "cell_type": "markdown",
   "metadata": {
    "id": "QCdmH0BOXQ1a"
   },
   "source": [
    "# **Desafío 1: Tuplas**"
   ]
  },
  {
   "cell_type": "markdown",
   "metadata": {
    "id": "KTPFMy2yXYWZ"
   },
   "source": [
    "¿Sabías que puedes crear tuplas con solo un elemento?\n",
    "\n",
    "En la celda de abajo, define una variable tup con un único elemento \"I\".\n",
    "\n",
    "**Pista:** *tienes que añadir una coma (,) después del elemento único. La razón es que una tupla se define como una serie de valores separados por comas. Los paréntesis no son realmente necesarios y se utilizan simplemente para mayor claridad. Por lo tanto, si intentamos crear una tupla sin utilizar una coma, Python simplemente interpretará el elemento como un único elemento, ya sea una cadena, un int u otros tipos.*"
   ]
  },
  {
   "cell_type": "code",
   "execution_count": 5,
   "metadata": {
    "id": "WLRyvlTiXPyY"
   },
   "outputs": [],
   "source": [
    "tup= (\"I\",)"
   ]
  },
  {
   "cell_type": "markdown",
   "metadata": {
    "id": "bgeeeTJ1Xery"
   },
   "source": [
    "\n",
    "Imprime el tipo de tup.\n",
    "\n",
    "Asegúrate de que su tipo sea correcto (es decir, tuple en lugar de str)."
   ]
  },
  {
   "cell_type": "code",
   "execution_count": 6,
   "metadata": {
    "id": "BKkr5hwSXj43"
   },
   "outputs": [
    {
     "name": "stdout",
     "output_type": "stream",
     "text": [
      "<class 'tuple'>\n"
     ]
    }
   ],
   "source": [
    "print(type(tup))"
   ]
  },
  {
   "cell_type": "markdown",
   "metadata": {
    "id": "0LugNw0DXlb7"
   },
   "source": [
    "\n",
    "Ahora intenta agregar los siguientes elementos a tup.\n",
    "\n",
    "¿Puedes hacerlo? Explica.\n",
    "\n",
    "\"r\", \"o\", \"n\", \"h\", \"a\", \"c\", \"k',\n"
   ]
  },
  {
   "cell_type": "code",
   "execution_count": 9,
   "metadata": {
    "id": "otXpjtfGXnwj"
   },
   "outputs": [],
   "source": [
    "#No se puede hacer porque las tuplas son colecciones ordenadas e inmutables."
   ]
  },
  {
   "cell_type": "markdown",
   "metadata": {
    "id": "ve7trPMCX591"
   },
   "source": [
    "\n",
    "¿Qué tal si reasignas un nuevo valor a una tupla existente?\n",
    "\n",
    "Reasigna los siguientes elementos a tup. ¿Puedes hacerlo? Explica.\n",
    "\n",
    "\"I\", \"r\", \"o\", \"n\", \"h\", \"a\", \"c\", \"k\"\n"
   ]
  },
  {
   "cell_type": "code",
   "execution_count": 10,
   "metadata": {
    "id": "cjrZAKHbX0C6"
   },
   "outputs": [],
   "source": [
    "tup= (\"I\", \"r\", \"o\", \"n\", \"h\", \"a\", \"c\", \"k\")"
   ]
  },
  {
   "cell_type": "markdown",
   "metadata": {
    "id": "3vByi_RqX9Sd"
   },
   "source": [
    "\n",
    "Divide tup en tup1 y tup2 con 4 elementos en cada una.\n",
    "\n",
    "tup1 debe ser (\"I\", \"r\", \"o\", \"n\") y tup2 debe ser (\"h\", \"a\", \"c\", \"k\").\n",
    "\n",
    "*Sugerencia: usa números de índice positivos para la asignación de tup1 y números de índice negativos para la asignación de tup2. Los números de índice positivos cuentan desde el principio, mientras que los números de índice negativos cuentan desde el final de la secuencia.*\n",
    "\n",
    "También imprime tup1 y tup2."
   ]
  },
  {
   "cell_type": "code",
   "execution_count": 16,
   "metadata": {
    "id": "13hRYDCyYCpK"
   },
   "outputs": [],
   "source": [
    "tup1= tup[0:4]\n",
    "tup2= tup[-4:]"
   ]
  },
  {
   "cell_type": "markdown",
   "metadata": {
    "id": "NoYeKBIbYPhf"
   },
   "source": [
    "\n",
    "Suma tup1 y tup2 en tup3 usando el operador +.\n",
    "\n",
    "Luego imprime tup3 y verifica si tup3 es igual a tup."
   ]
  },
  {
   "cell_type": "code",
   "execution_count": 17,
   "metadata": {
    "id": "082wlqYdYQEG"
   },
   "outputs": [
    {
     "name": "stdout",
     "output_type": "stream",
     "text": [
      "('I', 'r', 'o', 'n', 'h', 'a', 'c', 'k')\n"
     ]
    }
   ],
   "source": [
    "tup3= tup1+tup2\n",
    "print(tup3)"
   ]
  },
  {
   "cell_type": "markdown",
   "metadata": {
    "id": "7Xuf9RBDYUPo"
   },
   "source": [
    "Cuenta el número de elementos en tup1 y tup2. Luego suma los dos conteos y verifica si la suma es igual al número de elementos en tup3."
   ]
  },
  {
   "cell_type": "code",
   "execution_count": 26,
   "metadata": {
    "id": "p1ucchnLYWEg"
   },
   "outputs": [
    {
     "name": "stdout",
     "output_type": "stream",
     "text": [
      "OK misma longitud\n"
     ]
    }
   ],
   "source": [
    "lentups= len(tup1)+len(tup2)\n",
    "lentup1= len(tup3)\n",
    "if lentups == lentup1:\n",
    "    print (\"OK misma longitud\")\n",
    "else:\n",
    "    print (\"Error\")"
   ]
  },
  {
   "cell_type": "markdown",
   "metadata": {
    "id": "ahp4PR8ZYnWc"
   },
   "source": [
    "¿Cuál es el número de índice de \"h\" en tup3?"
   ]
  },
  {
   "cell_type": "code",
   "execution_count": 29,
   "metadata": {
    "id": "TadH9kxpYn4J"
   },
   "outputs": [
    {
     "name": "stdout",
     "output_type": "stream",
     "text": [
      "El indice de la letra h es: 4\n"
     ]
    }
   ],
   "source": [
    "indice_h= tup3.index(\"h\")\n",
    "print(f\"El indice de la letra h es: {indice_h}\")"
   ]
  },
  {
   "cell_type": "markdown",
   "metadata": {
    "id": "57xgtzfYYucD"
   },
   "source": [
    "\n",
    "Ahora, usa un bucle FOR para verificar si cada letra en la siguiente lista está presente en tup3:\n",
    "\n",
    "letters = [\"a\", \"b\", \"c\", \"d\", \"e\"]\n",
    "\n",
    "Para cada letra que verifiques, imprime True si está presente en tup3, de lo contrario imprime False.\n",
    "\n",
    "*Sugerencia: solo necesitas hacer un bucle con letters. No necesitas hacer un bucle con tup3 porque hay un operador de Python **in** que puedes usar.*"
   ]
  },
  {
   "cell_type": "code",
   "execution_count": 33,
   "metadata": {
    "id": "mFynik8mYqi7"
   },
   "outputs": [
    {
     "name": "stdout",
     "output_type": "stream",
     "text": [
      "True\n",
      "False\n",
      "True\n",
      "False\n",
      "False\n"
     ]
    }
   ],
   "source": [
    "letters = [\"a\", \"b\", \"c\", \"d\", \"e\"]\n",
    "for letter in letters:\n",
    "    if letter in tup3:\n",
    "        print(True)\n",
    "    else:\n",
    "        print(False)\n"
   ]
  },
  {
   "cell_type": "markdown",
   "metadata": {
    "id": "09D5TgApZUkf"
   },
   "source": [
    "\n",
    "¿Cuántas veces aparece cada letra de letters en tup3?\n",
    "\n",
    "Imprime el número de ocurrencias de cada letra."
   ]
  },
  {
   "cell_type": "code",
   "execution_count": 34,
   "metadata": {
    "id": "4TSs7NkTZVaz"
   },
   "outputs": [
    {
     "name": "stdout",
     "output_type": "stream",
     "text": [
      "La letra a aparece 1 veces\n",
      "La letra b aparece 0 veces\n",
      "La letra c aparece 1 veces\n",
      "La letra d aparece 0 veces\n",
      "La letra e aparece 0 veces\n"
     ]
    }
   ],
   "source": [
    "letters = [\"a\", \"b\", \"c\", \"d\", \"e\"]\n",
    "for letter in letters:\n",
    "    count= tup3.count(letter)\n",
    "    print(f\"La letra {letter} aparece {count} veces\")\n"
   ]
  },
  {
   "cell_type": "markdown",
   "metadata": {
    "id": "ZZuCMz_Ja26Z"
   },
   "source": [
    "# **Desafío 2: Conjuntos**"
   ]
  },
  {
   "cell_type": "markdown",
   "metadata": {
    "id": "P3KalfVybFoS"
   },
   "source": [
    "Hay mucho que aprender sobre los Conjuntos en Python y la información presentada en la lección es limitada debido a su longitud. Para aprender a fondo sobre los Conjuntos en Python, te recomendamos encarecidamente que revises el tutorial de W3Schools sobre [Ejemplos y Métodos de Conjuntos en Python](https://www.w3schools.com/python/python_sets.asp) antes de trabajar en este laboratorio. Algunas preguntas difíciles de este laboratorio tienen sus soluciones en el tutorial de W3Schools."
   ]
  },
  {
   "cell_type": "markdown",
   "metadata": {
    "id": "8n4AipRdbevF"
   },
   "source": [
    "Primero, importa la biblioteca random de Python."
   ]
  },
  {
   "cell_type": "code",
   "execution_count": 35,
   "metadata": {
    "id": "O0F_b3z6a59b"
   },
   "outputs": [],
   "source": [
    "import random"
   ]
  },
  {
   "cell_type": "markdown",
   "metadata": {
    "id": "UDW9o4LpbhRV"
   },
   "source": [
    "\n",
    "En la celda de abajo, crea una lista llamada sample_list_1 con 80 valores aleatorios.\n",
    "\n",
    "Requisitos:\n",
    "\n",
    "- Cada valor es un entero entre 0 y 100.\n",
    "- Cada valor en la lista es único.\n",
    "\n",
    "Imprime sample_list_1 para revisar sus valores.\n",
    "\n",
    "*Sugerencia: usa random.sample (referencia).*"
   ]
  },
  {
   "cell_type": "code",
   "execution_count": 102,
   "metadata": {
    "id": "4wFUa3KWbtLD"
   },
   "outputs": [
    {
     "name": "stdout",
     "output_type": "stream",
     "text": [
      "[61, 53, 8, 47, 0, 35, 67, 50, 6, 22, 12, 3, 85, 64, 9, 28, 11, 93, 73, 24, 96, 19, 65, 1, 77, 71, 86, 84, 26, 76, 16, 36, 92, 25, 66, 75, 99, 30, 56, 2, 80, 89, 23, 31, 10, 18, 33, 41, 90, 34, 83, 58, 29, 70, 40, 54, 44, 37, 14, 46, 52, 94, 81, 97, 32, 95, 45, 91, 17, 78, 51, 62, 39, 49, 74, 87, 21, 4, 98, 63]\n"
     ]
    }
   ],
   "source": [
    "sample_list_1= []\n",
    "while len(sample_list_1)< 80:\n",
    "    randvalue= random.random()\n",
    "    intvalue= int(randvalue*100)\n",
    "    if intvalue in sample_list_1:\n",
    "        continue\n",
    "    else:\n",
    "        sample_list_1.append(intvalue)\n",
    "print(sample_list_1)"
   ]
  },
  {
   "cell_type": "markdown",
   "metadata": {
    "id": "EdWA6Q_KbySv"
   },
   "source": [
    "Convierte sample_list_1 en un conjunto llamado set1. Imprime la longitud del conjunto. ¿Su longitud sigue siendo 80?"
   ]
  },
  {
   "cell_type": "code",
   "execution_count": 103,
   "metadata": {
    "id": "QmmpRcAxb2L3"
   },
   "outputs": [
    {
     "name": "stdout",
     "output_type": "stream",
     "text": [
      "80\n"
     ]
    }
   ],
   "source": [
    "set1= set(sample_list_1)\n",
    "print(len(set1))\n",
    "#Sigue siendo 80 la longitud"
   ]
  },
  {
   "cell_type": "markdown",
   "metadata": {
    "id": "QQtK9h7gb6MP"
   },
   "source": [
    "\n",
    "Crea otra lista llamada sample_list_2 con 80 valores aleatorios.\n",
    "\n",
    "Requisitos:\n",
    "\n",
    "- Cada valor es un entero entre 0 y 100.\n",
    "- Los valores en la lista no tienen que ser únicos.\n",
    "\n",
    "*Sugerencia: Usa un bucle FOR.*"
   ]
  },
  {
   "cell_type": "code",
   "execution_count": 110,
   "metadata": {
    "id": "ISC6VDRzb5if"
   },
   "outputs": [
    {
     "name": "stdout",
     "output_type": "stream",
     "text": [
      "[8, 78, 37, 1, 62, 33, 10, 13, 58, 36, 14, 46, 34, 35, 16, 54, 6, 4, 49, 73, 2, 56, 75, 61, 59, 74, 70, 48, 49, 10, 45, 26, 78, 5, 39, 45, 55, 43, 52, 34, 58, 73, 30, 19, 17, 60, 6, 58, 6, 80, 48, 21, 3, 9, 74, 45, 59, 41, 17, 9, 51, 45, 15, 33, 39, 4, 7, 38, 11, 55, 59, 32, 57, 61, 34, 7, 54, 15, 38, 71]\n"
     ]
    }
   ],
   "source": [
    "sample_list_2= []\n",
    "while len(sample_list_2)< 80:\n",
    "    randvalue= random.randint(1, 80)\n",
    "    sample_list_2.append(randvalue)\n",
    "print(sample_list_2)"
   ]
  },
  {
   "cell_type": "markdown",
   "metadata": {
    "id": "L_hKVK3EcAKw"
   },
   "source": [
    "Convierte sample_list_2 en un conjunto llamado set2. Imprime la longitud del conjunto. ¿Su longitud sigue siendo 80?"
   ]
  },
  {
   "cell_type": "code",
   "execution_count": 111,
   "metadata": {
    "id": "_FMIEIXecCeb"
   },
   "outputs": [
    {
     "name": "stdout",
     "output_type": "stream",
     "text": [
      "52\n"
     ]
    }
   ],
   "source": [
    "set2= set(sample_list_2)\n",
    "print(len(set2))\n",
    "#Es 52"
   ]
  },
  {
   "cell_type": "markdown",
   "metadata": {
    "id": "yGIxLXQFcGpA"
   },
   "source": [
    "Identifica los elementos presentes en set1 pero no en set2. Asigna los elementos a un nuevo conjunto llamado set3."
   ]
  },
  {
   "cell_type": "code",
   "execution_count": 112,
   "metadata": {
    "id": "862rxD2GcHJF"
   },
   "outputs": [
    {
     "name": "stdout",
     "output_type": "stream",
     "text": [
      "{0, 12, 18, 22, 23, 24, 25, 28, 29, 31, 40, 44, 47, 50, 53, 63, 64, 65, 66, 67, 76, 77, 81, 83, 84, 85, 86, 87, 89, 90, 91, 92, 93, 94, 95, 96, 97, 98, 99}\n"
     ]
    }
   ],
   "source": [
    "set3= set1 - set2\n",
    "print(set3)"
   ]
  },
  {
   "cell_type": "markdown",
   "metadata": {
    "id": "yhUShB6ycIjx"
   },
   "source": [
    "Identifica los elementos presentes en set2 pero no en set1. Asigna los elementos a un nuevo conjunto llamado set4."
   ]
  },
  {
   "cell_type": "code",
   "execution_count": 113,
   "metadata": {
    "id": "OHiI_cj7cKnu"
   },
   "outputs": [
    {
     "name": "stdout",
     "output_type": "stream",
     "text": [
      "{5, 38, 7, 43, 13, 15, 48, 55, 57, 59, 60}\n"
     ]
    }
   ],
   "source": [
    "set4= set2 - set1\n",
    "print(set4)"
   ]
  },
  {
   "cell_type": "markdown",
   "metadata": {
    "id": "CpNlX9HlcM9i"
   },
   "source": [
    "Ahora identifica los elementos compartidos entre set1 y set2. Asigna los elementos a un nuevo conjunto llamado set5."
   ]
  },
  {
   "cell_type": "code",
   "execution_count": 115,
   "metadata": {
    "id": "AjNixSuAcNf6"
   },
   "outputs": [
    {
     "name": "stdout",
     "output_type": "stream",
     "text": [
      "{1, 2, 3, 4, 6, 8, 9, 10, 11, 14, 16, 17, 19, 21, 26, 30, 32, 33, 34, 35, 36, 37, 39, 41, 45, 46, 49, 51, 52, 54, 56, 58, 61, 62, 70, 71, 73, 74, 75, 78, 80}\n"
     ]
    }
   ],
   "source": [
    "set5= set2 & set1\n",
    "print(set5)"
   ]
  },
  {
   "cell_type": "markdown",
   "metadata": {
    "id": "Dru2j-iSc3Ef"
   },
   "source": [
    "\n",
    "¿Cuál es la relación entre los siguientes valores?\n",
    "\n",
    "- len(set1)\n",
    "- len(set2)\n",
    "- len(set3)\n",
    "- len(set4)\n",
    "- len(set5)\n",
    "\n",
    "*Usa una fórmula matemática para representar esa relación. Prueba tu fórmula con código Python.*\n"
   ]
  },
  {
   "cell_type": "code",
   "execution_count": 117,
   "metadata": {
    "id": "Rsp4yI5Fc_d5"
   },
   "outputs": [
    {
     "name": "stdout",
     "output_type": "stream",
     "text": [
      "La relación len(set1) = len(set3) + len(set5) es correcta.\n"
     ]
    }
   ],
   "source": [
    "if len(set1) == len(set3) + len(set5):\n",
    "    print(\"La relación len(set1) = len(set3) + len(set5) es correcta.\")\n",
    "else:\n",
    "    print(\"La relación no se cumple.\")\n",
    "#Porque Set1 es el conjunto original. Set3  son los valores del conjunto 1 sin el 2 y set 5 son los que están en ambos."
   ]
  },
  {
   "cell_type": "markdown",
   "metadata": {
    "id": "aiUXCl3IdOCx"
   },
   "source": [
    "Crea un conjunto vacío llamado set6."
   ]
  },
  {
   "cell_type": "code",
   "execution_count": 120,
   "metadata": {
    "id": "8Vednn7OdO2F"
   },
   "outputs": [],
   "source": [
    "set6= set()"
   ]
  },
  {
   "cell_type": "markdown",
   "metadata": {
    "id": "yX_DxGEvdR-h"
   },
   "source": [
    "Añade set3 y set5 a set6 usando el método update de los Conjuntos de Python."
   ]
  },
  {
   "cell_type": "code",
   "execution_count": 122,
   "metadata": {
    "id": "LKW48Be1dTBj"
   },
   "outputs": [
    {
     "name": "stdout",
     "output_type": "stream",
     "text": [
      "{0, 1, 2, 3, 4, 6, 8, 9, 10, 11, 12, 14, 16, 17, 18, 19, 21, 22, 23, 24, 25, 26, 28, 29, 30, 31, 32, 33, 34, 35, 36, 37, 39, 40, 41, 44, 45, 46, 47, 49, 50, 51, 52, 53, 54, 56, 58, 61, 62, 63, 64, 65, 66, 67, 70, 71, 73, 74, 75, 76, 77, 78, 80, 81, 83, 84, 85, 86, 87, 89, 90, 91, 92, 93, 94, 95, 96, 97, 98, 99}\n"
     ]
    }
   ],
   "source": [
    "set6.update(set3,set5)\n",
    "print(set6)"
   ]
  },
  {
   "cell_type": "markdown",
   "metadata": {
    "id": "LlLtoaIDdVsh"
   },
   "source": [
    "Verifica si set1 y set6 son iguales."
   ]
  },
  {
   "cell_type": "code",
   "execution_count": 123,
   "metadata": {
    "id": "oM2QtK9VdWHJ"
   },
   "outputs": [
    {
     "name": "stdout",
     "output_type": "stream",
     "text": [
      "Son iguales\n"
     ]
    }
   ],
   "source": [
    "if set1==set6:\n",
    "    print(\"Son iguales\")\n",
    "else:\n",
    "    print(\"No son iguales\")"
   ]
  },
  {
   "cell_type": "markdown",
   "metadata": {
    "id": "Iaqf5heHdYxy"
   },
   "source": [
    "Comprueba si set1 contiene a set2 utilizando el método issubset de los Conjuntos de Python. Luego verifica si set1 contiene a set3."
   ]
  },
  {
   "cell_type": "code",
   "execution_count": 124,
   "metadata": {
    "id": "iK_VvN3xdZQB"
   },
   "outputs": [
    {
     "name": "stdout",
     "output_type": "stream",
     "text": [
      "set2 no está contenido en set1\n",
      "set3 está contenido en set1\n"
     ]
    }
   ],
   "source": [
    "#Comprueba si set1 contiene a set2\n",
    "if set2.issubset(set1):\n",
    "    print(\"set2 está contenido en set1\")\n",
    "else:\n",
    "    print(\"set2 no está contenido en set1\")\n",
    "\n",
    "#verifica si set1 contiene a set3.\n",
    "if set3.issubset(set1):\n",
    "    print(\"set3 está contenido en set1\")\n",
    "else:\n",
    "    print(\"set3 no está contenido en set1\")\n"
   ]
  },
  {
   "cell_type": "markdown",
   "metadata": {
    "id": "lwp2j4EpddaC"
   },
   "source": [
    "Utilizando el método union de los Conjuntos de Python, agrega set3, set4 y set5. Luego agrega set1 y set2.\n",
    "Verifica si los valores agregados son iguales."
   ]
  },
  {
   "cell_type": "code",
   "execution_count": 126,
   "metadata": {
    "id": "efZbpxygdd9g"
   },
   "outputs": [
    {
     "name": "stdout",
     "output_type": "stream",
     "text": [
      "Los valores agregados son iguales\n"
     ]
    }
   ],
   "source": [
    "# Unión de set3, set4 y set5\n",
    "unionfirst = set3.union(set4, set5)\n",
    "\n",
    "# Agregar set1 y set2\n",
    "unionsecond = unionfirst.union(set1, set2)\n",
    "\n",
    "# Verificar si los valores son iguales\n",
    "if unionsecond == unionfirst:\n",
    "    print(\"Los valores agregados son iguales\")\n",
    "else:\n",
    "    print(\"Los valores agregados no son iguales\")"
   ]
  },
  {
   "cell_type": "markdown",
   "metadata": {
    "id": "6mtHiTiZdhQE"
   },
   "source": [
    "Utilizando el método pop, elimina el primer elemento de set1."
   ]
  },
  {
   "cell_type": "code",
   "execution_count": 128,
   "metadata": {
    "id": "6l8zEo-rdhp9"
   },
   "outputs": [
    {
     "name": "stdout",
     "output_type": "stream",
     "text": [
      "Elemento eliminado: 1\n",
      "set1 ha quedado así: {2, 3, 4, 6, 8, 9, 10, 11, 12, 14, 16, 17, 18, 19, 21, 22, 23, 24, 25, 26, 28, 29, 30, 31, 32, 33, 34, 35, 36, 37, 39, 40, 41, 44, 45, 46, 47, 49, 50, 51, 52, 53, 54, 56, 58, 61, 62, 63, 64, 65, 66, 67, 70, 71, 73, 74, 75, 76, 77, 78, 80, 81, 83, 84, 85, 86, 87, 89, 90, 91, 92, 93, 94, 95, 96, 97, 98, 99}\n"
     ]
    }
   ],
   "source": [
    "elemento_eliminado = set1.pop()\n",
    "print(f\"Elemento eliminado: {elemento_eliminado}\")\n",
    "print(f\"set1 ha quedado así: {set1}\")"
   ]
  },
  {
   "cell_type": "markdown",
   "metadata": {
    "id": "Jef-TI6hdisL"
   },
   "source": [
    "\n",
    "Elimina cada elemento en la siguiente lista de set1 si están presentes en el conjunto. Imprime los elementos restantes.\n",
    "\n",
    "list_to_remove = [1, 9, 11, 19, 21, 29, 31, 39, 41, 49, 51, 59, 61, 69, 71, 79, 81, 89, 91, 99]"
   ]
  },
  {
   "cell_type": "code",
   "execution_count": 129,
   "metadata": {
    "id": "jjxqthAbdmqT"
   },
   "outputs": [
    {
     "name": "stdout",
     "output_type": "stream",
     "text": [
      "set1 ha quedado así: {2, 3, 4, 6, 8, 10, 12, 14, 16, 17, 18, 22, 23, 24, 25, 26, 28, 30, 32, 33, 34, 35, 36, 37, 40, 44, 45, 46, 47, 50, 52, 53, 54, 56, 58, 62, 63, 64, 65, 66, 67, 70, 73, 74, 75, 76, 77, 78, 80, 83, 84, 85, 86, 87, 90, 92, 93, 94, 95, 96, 97, 98}\n"
     ]
    }
   ],
   "source": [
    "list_to_remove = [1, 9, 11, 19, 21, 29, 31, 39, 41, 49, 51, 59, 61, 69, 71, 79, 81, 89, 91, 99]\n",
    "\n",
    "for element in list_to_remove:\n",
    "    set1.discard(element)\n",
    "\n",
    "print(f\"set1 ha quedado así: {set1}\")\n"
   ]
  },
  {
   "cell_type": "code",
   "execution_count": null,
   "metadata": {},
   "outputs": [],
   "source": []
  }
 ],
 "metadata": {
  "colab": {
   "authorship_tag": "ABX9TyMQRMmUJ8ScdOjRmRMOBBxn",
   "provenance": []
  },
  "kernelspec": {
   "display_name": "Python 3 (ipykernel)",
   "language": "python",
   "name": "python3"
  },
  "language_info": {
   "codemirror_mode": {
    "name": "ipython",
    "version": 3
   },
   "file_extension": ".py",
   "mimetype": "text/x-python",
   "name": "python",
   "nbconvert_exporter": "python",
   "pygments_lexer": "ipython3",
   "version": "3.9.13"
  }
 },
 "nbformat": 4,
 "nbformat_minor": 1
}
